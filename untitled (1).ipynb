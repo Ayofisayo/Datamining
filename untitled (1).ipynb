{
  "nbformat": 4,
  "nbformat_minor": 0,
  "metadata": {
    "colab": {
      "provenance": []
    },
    "kernelspec": {
      "name": "python3",
      "display_name": "Python 3"
    },
    "language_info": {
      "name": "python"
    }
  },
  "cells": [
    {
      "cell_type": "markdown",
      "source": [
        "\n",
        "**Problem 1**\n",
        "\n"
      ],
      "metadata": {
        "id": "pENuF55eXoFH"
      }
    },
    {
      "cell_type": "code",
      "source": [
        "import numpy as np\n",
        "from sklearn.svm import SVC\n",
        "from sklearn.preprocessing import StandardScaler\n",
        "\n",
        "# Load data\n",
        "X_train = np.loadtxt('X_train.txt')\n",
        "X_test = np.loadtxt('X_test.txt')\n",
        "y_train = np.loadtxt('y_train.txt')\n",
        "y_test = np.loadtxt('y_test.txt')\n"
      ],
      "metadata": {
        "id": "LeB6m9b8UYPH"
      },
      "execution_count": 14,
      "outputs": []
    },
    {
      "cell_type": "code",
      "source": [
        "# Transpose the data\n",
        "X_test_transposed = X_test.T\n",
        "\n",
        "# Save the transposed data back to a file\n",
        "np.savetxt('X_test_transposed.txt', X_test_transposed, fmt='%.6f')\n",
        "\n",
        "print(\"File transposed successfully and saved as 'X_test_transposed.txt'\")\n"
      ],
      "metadata": {
        "colab": {
          "base_uri": "https://localhost:8080/"
        },
        "id": "LsJ3oNOYUkmO",
        "outputId": "0d62fbf7-69d0-42e8-ba59-48d2426f6173"
      },
      "execution_count": 2,
      "outputs": [
        {
          "output_type": "stream",
          "name": "stdout",
          "text": [
            "File transposed successfully and saved as 'X_test_transposed.txt'\n"
          ]
        }
      ]
    },
    {
      "cell_type": "code",
      "source": [
        "# Normalize data\n",
        "scaler = StandardScaler()\n",
        "X_train = scaler.fit_transform(X_train)\n",
        "X_test_transposed = scaler.transform(X_test_transposed)\n",
        "\n"
      ],
      "metadata": {
        "id": "87qH3FYAUZ36"
      },
      "execution_count": 16,
      "outputs": []
    },
    {
      "cell_type": "code",
      "source": [
        "# Number of classes\n",
        "num_classes = y_train.shape[1]"
      ],
      "metadata": {
        "id": "tEsy6X5MUZ7E"
      },
      "execution_count": 17,
      "outputs": []
    },
    {
      "cell_type": "code",
      "execution_count": 18,
      "metadata": {
        "colab": {
          "base_uri": "https://localhost:8080/"
        },
        "id": "9OXxZTPMUBWM",
        "outputId": "b0452999-a23c-43d6-88e5-53f3d4ec7238"
      },
      "outputs": [
        {
          "output_type": "stream",
          "name": "stdout",
          "text": [
            "SVM with poly kernel: 40.98%\n",
            "SVM with rbf kernel: 0.55%\n"
          ]
        }
      ],
      "source": [
        "# Train SVMs for each class\n",
        "kernels = ['poly', 'rbf']\n",
        "results = {}\n",
        "\n",
        "for kernel in kernels:\n",
        "    classifiers = []\n",
        "    for i in range(num_classes):\n",
        "        # Use the appropriate SVM parameters based on the kernel type\n",
        "        if kernel == 'poly':\n",
        "            clf = SVC(kernel=kernel, degree=2)\n",
        "        elif kernel == 'rbf':\n",
        "            clf = SVC(kernel=kernel, gamma=2)\n",
        "        clf.fit(X_train, y_train[:, i])\n",
        "        classifiers.append(clf)\n",
        "\n",
        "    # Predict for each class\n",
        "    predictions = np.zeros_like(y_test, dtype=int)\n",
        "    for i, clf in enumerate(classifiers):\n",
        "        predictions[:, i] = clf.predict(X_test_transposed)\n",
        "\n",
        "    # Compute accuracy\n",
        "    accuracies = []\n",
        "    for i in range(len(y_test)):\n",
        "        T = y_test[i].astype(int)\n",
        "        P = predictions[i].astype(int)\n",
        "        # Use logical operations for multi-label accuracy computation\n",
        "        numerator = np.sum(np.logical_and(T, P))\n",
        "        denominator = np.sum(np.logical_or(T, P))\n",
        "        if denominator > 0:\n",
        "            accuracies.append(numerator / denominator)\n",
        "\n",
        "    overall_accuracy = np.mean(accuracies) * 100\n",
        "    results[kernel] = overall_accuracy\n",
        "\n",
        "# Report results\n",
        "for kernel, accuracy in results.items():\n",
        "    print(f\"SVM with {kernel} kernel: {accuracy:.2f}%\")\n"
      ]
    },
    {
      "cell_type": "code",
      "source": [
        "from sklearn.svm import SVC\n",
        "from sklearn.preprocessing import StandardScaler\n",
        "import numpy as np\n",
        "\n",
        "# Load data\n",
        "X_train = np.loadtxt('X_train.txt')\n",
        "X_test = np.loadtxt('X_test.txt')\n",
        "y_train = np.loadtxt('y_train.txt')\n",
        "y_test = np.loadtxt('y_test.txt')\n",
        "\n",
        "# Normalize features\n",
        "scaler = StandardScaler()\n",
        "X_train = scaler.fit_transform(X_train)\n",
        "X_test_transposed = scaler.transform(X_test_transposed)\n",
        "\n",
        "# Debug: Verify shapes and distributions\n",
        "print(f\"X_train shape: {X_train.shape}, X_test shape: {X_test_transposed.shape}\")\n",
        "print(f\"y_train shape: {y_train.shape}, y_test shape: {y_test.shape}\")\n",
        "print(f\"y_train class distribution:\\n{np.sum(y_train, axis=0)}\")\n",
        "print(f\"y_test class distribution:\\n{np.sum(y_test, axis=0)}\")\n",
        "\n",
        "# Train and test SVMs for each class\n",
        "results = {}\n",
        "for kernel in ['poly', 'rbf']:\n",
        "    classifiers = []\n",
        "    for i in range(y_train.shape[1]):\n",
        "        # Set appropriate parameters for each kernel\n",
        "        if kernel == 'poly':\n",
        "            clf = SVC(kernel=kernel, degree=2, C=10, gamma='scale')  # Polynomial kernel\n",
        "        elif kernel == 'rbf':\n",
        "            clf = SVC(kernel=kernel, gamma=2, C=10)  # RBF kernel\n",
        "        clf.fit(X_train, y_train[:, i])\n",
        "        classifiers.append(clf)\n",
        "\n",
        "    # Predict\n",
        "    predictions = np.zeros_like(y_test, dtype=int)\n",
        "    for i, clf in enumerate(classifiers):\n",
        "        predictions[:, i] = clf.predict(X_test_transposed)\n",
        "\n",
        "    # Compute accuracy\n",
        "    accuracies = []\n",
        "    for i in range(len(y_test)):\n",
        "        T = y_test[i].astype(int)\n",
        "        P = predictions[i].astype(int)\n",
        "        numerator = np.sum(np.logical_and(T, P))\n",
        "        denominator = np.sum(np.logical_or(T, P))\n",
        "        if denominator > 0:\n",
        "            accuracies.append(numerator / denominator)\n",
        "\n",
        "    overall_accuracy = np.mean(accuracies) * 100\n",
        "    results[kernel] = overall_accuracy\n",
        "\n",
        "# Report results\n",
        "for kernel, accuracy in results.items():\n",
        "    print(f\"SVM with {kernel} kernel: {accuracy:.2f}%\")\n"
      ],
      "metadata": {
        "colab": {
          "base_uri": "https://localhost:8080/"
        },
        "id": "0x_YfbLDUZ9b",
        "outputId": "845bd6be-2d2d-4a19-adb6-9baf111b9a90"
      },
      "execution_count": 19,
      "outputs": [
        {
          "output_type": "stream",
          "name": "stdout",
          "text": [
            "X_train shape: (1500, 294), X_test shape: (907, 294)\n",
            "y_train shape: (1500, 6), y_test shape: (907, 6)\n",
            "y_train class distribution:\n",
            "[257. 220. 253. 270. 340. 270.]\n",
            "y_test class distribution:\n",
            "[170. 144. 144. 163. 193. 161.]\n",
            "SVM with poly kernel: 47.11%\n",
            "SVM with rbf kernel: 0.00%\n"
          ]
        }
      ]
    },
    {
      "cell_type": "code",
      "source": [
        "# Adjust hyperparameters\n",
        "clf = SVC(kernel='rbf', gamma=0.1, C=10)  # Adjust gamma and C as needed\n",
        "classifiers = []\n",
        "\n",
        "# Train and test for each class\n",
        "for i in range(y_train.shape[1]):\n",
        "    clf.fit(X_train, y_train[:, i])\n",
        "    classifiers.append(clf)\n",
        "\n",
        "# Predict\n",
        "predictions = np.zeros_like(y_test, dtype=int)\n",
        "for i, clf in enumerate(classifiers):\n",
        "    predictions[:, i] = clf.predict(X_test_transposed)\n",
        "\n",
        "# Compute accuracy\n",
        "accuracies = []\n",
        "for i in range(len(y_test)):\n",
        "    T = y_test[i].astype(int)\n",
        "    P = predictions[i].astype(int)\n",
        "    numerator = np.sum(np.logical_and(T, P))\n",
        "    denominator = np.sum(np.logical_or(T, P))\n",
        "    if denominator > 0:\n",
        "        accuracies.append(numerator / denominator)\n",
        "\n",
        "overall_accuracy = np.mean(accuracies) * 100\n",
        "print(f\"RBF Kernel Accuracy: {overall_accuracy:.2f}%\")\n"
      ],
      "metadata": {
        "colab": {
          "base_uri": "https://localhost:8080/"
        },
        "id": "jW-UBkE8UZ_i",
        "outputId": "acab4a85-ca75-4959-e0bf-802e27ca01fa"
      },
      "execution_count": 20,
      "outputs": [
        {
          "output_type": "stream",
          "name": "stdout",
          "text": [
            "RBF Kernel Accuracy: 0.00%\n"
          ]
        }
      ]
    },
    {
      "cell_type": "code",
      "source": [
        "clf = SVC(kernel='rbf', gamma=0.1, C=10, class_weight='balanced')\n",
        "classifiers = []\n",
        "\n",
        "for i in range(y_train.shape[1]):\n",
        "    clf.fit(X_train, y_train[:, i])\n",
        "    classifiers.append(clf)\n",
        "\n",
        "predictions = np.zeros_like(y_test, dtype=int)\n",
        "for i, clf in enumerate(classifiers):\n",
        "    predictions[:, i] = clf.predict(X_test_transposed)\n",
        "\n",
        "accuracies = []\n",
        "for i in range(len(y_test)):\n",
        "    T = y_test[i].astype(int)\n",
        "    P = predictions[i].astype(int)\n",
        "    numerator = np.sum(np.logical_and(T, P))\n",
        "    denominator = np.sum(np.logical_or(T, P))\n",
        "    if denominator > 0:\n",
        "        accuracies.append(numerator / denominator)\n",
        "\n",
        "overall_accuracy = np.mean(accuracies) * 100\n",
        "print(f\"RBF Kernel Accuracy: {overall_accuracy:.2f}%\")\n"
      ],
      "metadata": {
        "colab": {
          "base_uri": "https://localhost:8080/"
        },
        "id": "Zadov5qvUaBX",
        "outputId": "1fb21d2c-8ab8-424f-d82e-306e6f8cd7b6"
      },
      "execution_count": 21,
      "outputs": [
        {
          "output_type": "stream",
          "name": "stdout",
          "text": [
            "RBF Kernel Accuracy: 0.00%\n"
          ]
        }
      ]
    },
    {
      "cell_type": "code",
      "source": [],
      "metadata": {
        "id": "D7XgV3TPUaDP"
      },
      "execution_count": null,
      "outputs": []
    },
    {
      "cell_type": "code",
      "source": [],
      "metadata": {
        "id": "mtL-s5GuUYHB"
      },
      "execution_count": null,
      "outputs": []
    },
    {
      "cell_type": "code",
      "source": [],
      "metadata": {
        "id": "ZS17fwFWUYKL"
      },
      "execution_count": null,
      "outputs": []
    },
    {
      "cell_type": "markdown",
      "source": [],
      "metadata": {
        "id": "RBwLDil-c514"
      }
    },
    {
      "cell_type": "markdown",
      "source": [
        "Step 1: Load and Inspect Data"
      ],
      "metadata": {
        "id": "S5wOVWSvc5_U"
      }
    },
    {
      "cell_type": "code",
      "source": [
        "import numpy as np\n",
        "import pandas as pd\n",
        "from sklearn.svm import SVC\n",
        "from sklearn.preprocessing import StandardScaler\n",
        "from sklearn.decomposition import PCA\n",
        "from sklearn.metrics import accuracy_score\n",
        "\n",
        "# Load data\n",
        "X_train = np.loadtxt('X_train.txt')\n",
        "X_test = np.loadtxt('X_test.txt')\n",
        "y_train = np.loadtxt('y_train.txt')\n",
        "y_test = np.loadtxt('y_test.txt')\n",
        "\n",
        "# Display basic information\n",
        "print(f\"X_train shape: {X_train.shape}, X_test shape: {X_test.shape}\")\n",
        "print(f\"y_train shape: {y_train.shape}, y_test shape: {y_test.shape}\")\n"
      ],
      "metadata": {
        "colab": {
          "base_uri": "https://localhost:8080/"
        },
        "id": "PVFfW0IyUYMp",
        "outputId": "d7345927-561f-4a92-9893-2ab105620053"
      },
      "execution_count": 22,
      "outputs": [
        {
          "output_type": "stream",
          "name": "stdout",
          "text": [
            "X_train shape: (1500, 294), X_test shape: (294, 907)\n",
            "y_train shape: (1500, 6), y_test shape: (907, 6)\n"
          ]
        }
      ]
    },
    {
      "cell_type": "markdown",
      "source": [
        "Step 2: Handle Missing Values\n",
        "If there are missing values, replace them with appropriate statistics (e.g., mean or median)."
      ],
      "metadata": {
        "id": "GPc8ttk7dD-o"
      }
    },
    {
      "cell_type": "code",
      "source": [
        "from sklearn.impute import SimpleImputer\n",
        "\n",
        "# Impute missing values with mean\n",
        "imputer = SimpleImputer(strategy='mean')\n",
        "X_train = imputer.fit_transform(X_train)\n",
        "X_test_transposed = imputer.transform(X_test_transposed)\n"
      ],
      "metadata": {
        "id": "GWnrgmvac7cX"
      },
      "execution_count": 23,
      "outputs": []
    },
    {
      "cell_type": "markdown",
      "source": [
        "Step 3: Normalize the Dataset\n",
        "Normalize the dataset to ensure all features have a similar scale."
      ],
      "metadata": {
        "id": "wzVrY3pqdQNg"
      }
    },
    {
      "cell_type": "code",
      "source": [
        "scaler = StandardScaler()\n",
        "X_train = scaler.fit_transform(X_train)\n",
        "X_test_transposed= scaler.transform(X_test_transposed)\n"
      ],
      "metadata": {
        "id": "a0HPsOPgc7fV"
      },
      "execution_count": 24,
      "outputs": []
    },
    {
      "cell_type": "markdown",
      "source": [
        "Step 4: Remove Outliers\n",
        "Detect and remove outliers using methods like Z-score."
      ],
      "metadata": {
        "id": "fQRvXBM8dbk9"
      }
    },
    {
      "cell_type": "code",
      "source": [
        "from scipy.stats import zscore\n",
        "\n",
        "# Compute Z-scores\n",
        "z_scores = np.abs(zscore(X_train))\n",
        "threshold = 3\n",
        "X_train = X_train[(z_scores < threshold).all(axis=1)]\n",
        "y_train = y_train[(z_scores < threshold).all(axis=1)]\n"
      ],
      "metadata": {
        "id": "91ANi3Xkc7iK"
      },
      "execution_count": 25,
      "outputs": []
    },
    {
      "cell_type": "markdown",
      "source": [
        "Step 5: Feature Selection via Correlation\n",
        "Analyze feature importance by computing correlation with the target labels."
      ],
      "metadata": {
        "id": "ZsNWZvV4dhIE"
      }
    },
    {
      "cell_type": "code",
      "source": [
        "correlation_matrix = pd.DataFrame(X_train).corrwith(pd.DataFrame(y_train).sum(axis=1))\n",
        "important_features = correlation_matrix[correlation_matrix.abs() > 0.1].index\n",
        "X_train = X_train[:, important_features]\n",
        "X_test_transposed = X_test_transposed[:, important_features]\n",
        "print(f\"Selected {len(important_features)} important features.\")\n"
      ],
      "metadata": {
        "colab": {
          "base_uri": "https://localhost:8080/"
        },
        "id": "vFNyW5DTc7kX",
        "outputId": "e1415dd0-19e9-4e63-e801-12f38ffd78d6"
      },
      "execution_count": 26,
      "outputs": [
        {
          "output_type": "stream",
          "name": "stdout",
          "text": [
            "Selected 40 important features.\n"
          ]
        }
      ]
    },
    {
      "cell_type": "markdown",
      "source": [
        "Step 6: Dimensionality Reduction with PCA\n",
        "Reduce dimensionality to simplify the dataset while retaining variance."
      ],
      "metadata": {
        "id": "8wKde8NbdsM3"
      }
    },
    {
      "cell_type": "code",
      "source": [
        "pca = PCA(n_components=30)  # Retain 30 principal components\n",
        "X_train = pca.fit_transform(X_train)\n",
        "X_test_transposed = pca.transform(X_test_transposed)\n"
      ],
      "metadata": {
        "id": "A2GBaaBkc7mx"
      },
      "execution_count": 27,
      "outputs": []
    },
    {
      "cell_type": "markdown",
      "source": [
        "Step 7: Train and Evaluate SVM Models\n",
        "Train separate SVM models for each class and evaluate their performance.\n",
        "\n",
        "Polynomial Kernel"
      ],
      "metadata": {
        "id": "I5Udpj6Vd2MQ"
      }
    },
    {
      "cell_type": "code",
      "source": [
        "# Train SVM with polynomial kernel\n",
        "poly_classifiers = []\n",
        "for i in range(y_train.shape[1]):\n",
        "    clf = SVC(kernel='poly', degree=2, C=10, probability=True)\n",
        "    clf.fit(X_train, y_train[:, i])\n",
        "    poly_classifiers.append(clf)\n",
        "\n",
        "# Predict\n",
        "poly_predictions = np.zeros_like(y_test)\n",
        "for i, clf in enumerate(poly_classifiers):\n",
        "    poly_predictions[:, i] = clf.predict(X_test_transposed )\n",
        "\n",
        "# Compute accuracy\n",
        "accuracies = []\n",
        "for i in range(len(y_test)):\n",
        "    T = y_test[i]\n",
        "    P = poly_predictions[i]\n",
        "    numerator = np.sum(np.logical_and(T, P))\n",
        "    denominator = np.sum(np.logical_or(T, P))\n",
        "    if denominator > 0:\n",
        "        accuracies.append(numerator / denominator)\n",
        "\n",
        "poly_accuracy = np.mean(accuracies) * 100\n",
        "print(f\"Accuracy with polynomial kernel: {poly_accuracy:.2f}%\")\n"
      ],
      "metadata": {
        "colab": {
          "base_uri": "https://localhost:8080/"
        },
        "id": "bhfUIvEjdz-e",
        "outputId": "0f007405-d1a3-4510-ea45-abc268afb1a2"
      },
      "execution_count": 28,
      "outputs": [
        {
          "output_type": "stream",
          "name": "stdout",
          "text": [
            "Accuracy with polynomial kernel: 31.23%\n"
          ]
        }
      ]
    },
    {
      "cell_type": "code",
      "source": [
        "# Train SVM with Gaussian kernel\n",
        "rbf_classifiers = []\n",
        "for i in range(y_train.shape[1]):\n",
        "    clf = SVC(kernel='rbf', gamma=2, C=10, probability=True)\n",
        "    clf.fit(X_train, y_train[:, i])\n",
        "    rbf_classifiers.append(clf)\n",
        "\n",
        "# Predict\n",
        "rbf_predictions = np.zeros_like(y_test)\n",
        "for i, clf in enumerate(rbf_classifiers):\n",
        "    rbf_predictions[:, i] = clf.predict(X_test_transposed)\n",
        "\n",
        "# Compute accuracy\n",
        "accuracies = []\n",
        "for i in range(len(y_test)):\n",
        "    T = y_test[i]\n",
        "    P = rbf_predictions[i]\n",
        "    numerator = np.sum(np.logical_and(T, P))\n",
        "    denominator = np.sum(np.logical_or(T, P))\n",
        "    if denominator > 0:\n",
        "        accuracies.append(numerator / denominator)\n",
        "\n",
        "rbf_accuracy = np.mean(accuracies) * 100\n",
        "print(f\"Accuracy with Gaussian kernel: {rbf_accuracy:.2f}%\")\n"
      ],
      "metadata": {
        "colab": {
          "base_uri": "https://localhost:8080/"
        },
        "id": "eMqlt84ad0BR",
        "outputId": "0731a5f4-4a95-442f-c466-61623732ad8e"
      },
      "execution_count": 29,
      "outputs": [
        {
          "output_type": "stream",
          "name": "stdout",
          "text": [
            "Accuracy with Gaussian kernel: 0.00%\n"
          ]
        }
      ]
    },
    {
      "cell_type": "code",
      "source": [
        "tried with only one class"
      ],
      "metadata": {
        "id": "OpcXzkI2XgY2"
      },
      "execution_count": null,
      "outputs": []
    },
    {
      "cell_type": "code",
      "source": [
        "clf = SVC(kernel='rbf', gamma='scale', C=1)\n",
        "clf.fit(X_train, y_train[:, 0])  # Train on the first class\n",
        "preds = clf.predict(X_test_transposed)\n",
        "accuracy = np.mean(preds == y_test[:, 0]) * 100\n",
        "print(f\"Accuracy for Class 0 with RBF kernel: {accuracy:.2f}%\")\n"
      ],
      "metadata": {
        "colab": {
          "base_uri": "https://localhost:8080/"
        },
        "id": "f84iL1sRd0EF",
        "outputId": "88015abf-9e41-486b-cc8b-d50bcb88e555"
      },
      "execution_count": 30,
      "outputs": [
        {
          "output_type": "stream",
          "name": "stdout",
          "text": [
            "Accuracy for Class 0 with RBF kernel: 81.26%\n"
          ]
        }
      ]
    },
    {
      "cell_type": "code",
      "source": [
        "import numpy as np\n",
        "from sklearn.svm import SVC\n",
        "from sklearn.preprocessing import StandardScaler\n",
        "from sklearn.model_selection import GridSearchCV\n",
        "\n",
        "# Load data\n",
        "X_train = np.loadtxt('X_train.txt')\n",
        "X_test = np.loadtxt('X_test.txt')\n",
        "y_train = np.loadtxt('y_train.txt')\n",
        "y_test = np.loadtxt('y_test.txt')\n",
        "\n",
        "# Normalize the dataset\n",
        "scaler = StandardScaler()\n",
        "X_train = scaler.fit_transform(X_train)\n",
        "X_test = scaler.transform(X_test_transposed)\n",
        "\n",
        "# Grid Search for Hyperparameter Tuning\n",
        "param_grid = {\n",
        "    'C': [0.1, 1, 10, 100],\n",
        "    'gamma': [0.001, 0.01, 0.1, 1, 'scale']\n",
        "}\n",
        "\n",
        "# Train SVM with optimized hyperparameters for each class\n",
        "rbf_classifiers = []\n",
        "for i in range(y_train.shape[1]):\n",
        "    grid = GridSearchCV(SVC(kernel='rbf', class_weight='balanced'), param_grid, cv=3, scoring='accuracy')\n",
        "    grid.fit(X_train, y_train[:, i])  # Optimize for each class\n",
        "    best_params = grid.best_params_\n",
        "    print(f\"Class {i}: Best parameters: {best_params}\")\n",
        "\n",
        "    # Train with the best parameters\n",
        "    clf = SVC(kernel='rbf', C=best_params['C'], gamma=best_params['gamma'], class_weight='balanced')\n",
        "    clf.fit(X_train, y_train[:, i])\n",
        "    rbf_classifiers.append(clf)\n",
        "\n",
        "# Predict on the test set\n",
        "rbf_predictions = np.zeros_like(y_test)\n",
        "for i, clf in enumerate(rbf_classifiers):\n",
        "    rbf_predictions[:, i] = clf.predict(X_test)\n",
        "\n",
        "# Compute accuracy for multi-label classification\n",
        "accuracies = []\n",
        "for i in range(len(y_test)):\n",
        "    T = y_test[i]\n",
        "    P = rbf_predictions[i]\n",
        "    numerator = np.sum(np.logical_and(T, P))\n",
        "    denominator = np.sum(np.logical_or(T, P))\n",
        "    if denominator > 0:\n",
        "        accuracies.append(numerator / denominator)\n",
        "\n",
        "rbf_accuracy = np.mean(accuracies) * 100\n",
        "print(f\"Accuracy with Gaussian (RBF) kernel: {rbf_accuracy:.2f}%\")\n"
      ],
      "metadata": {
        "colab": {
          "base_uri": "https://localhost:8080/"
        },
        "id": "ibmriDgYc7pc",
        "outputId": "e9eb76a8-687c-4a2c-905b-96bb91264b23"
      },
      "execution_count": 3,
      "outputs": [
        {
          "output_type": "stream",
          "name": "stdout",
          "text": [
            "Class 0: Best parameters: {'C': 10, 'gamma': 'scale'}\n",
            "Class 1: Best parameters: {'C': 10, 'gamma': 0.001}\n",
            "Class 2: Best parameters: {'C': 10, 'gamma': 'scale'}\n",
            "Class 3: Best parameters: {'C': 1, 'gamma': 'scale'}\n",
            "Class 4: Best parameters: {'C': 10, 'gamma': 'scale'}\n",
            "Class 5: Best parameters: {'C': 10, 'gamma': 0.01}\n",
            "Accuracy with Gaussian (RBF) kernel: 67.66%\n"
          ]
        }
      ]
    },
    {
      "cell_type": "code",
      "source": [
        "import numpy as np\n",
        "from sklearn.svm import SVC\n",
        "from sklearn.preprocessing import StandardScaler\n",
        "from sklearn.model_selection import GridSearchCV\n",
        "\n",
        "# Load data\n",
        "X_train = np.loadtxt('X_train.txt')\n",
        "X_test = np.loadtxt('X_test.txt')\n",
        "y_train = np.loadtxt('y_train.txt')\n",
        "y_test = np.loadtxt('y_test.txt')\n",
        "\n",
        "# Normalize the dataset\n",
        "scaler = StandardScaler()\n",
        "X_train = scaler.fit_transform(X_train)\n",
        "X_test = scaler.transform(X_test_transposed)\n",
        "\n",
        "# Hyperparameter Grid for Polynomial Kernel\n",
        "param_grid = {\n",
        "    'C': [0.1, 1, 10, 100]  # Regularization parameter\n",
        "}\n",
        "\n",
        "# Train SVM with optimized hyperparameters for each class\n",
        "poly_classifiers = []\n",
        "for i in range(y_train.shape[1]):\n",
        "    grid = GridSearchCV(SVC(kernel='poly', degree=2, class_weight='balanced'), param_grid, cv=3, scoring='accuracy')\n",
        "    grid.fit(X_train, y_train[:, i])  # Optimize for each class\n",
        "    best_params = grid.best_params_\n",
        "    print(f\"Class {i}: Best parameters: {best_params}\")\n",
        "\n",
        "    # Train with the best parameters\n",
        "    clf = SVC(kernel='poly', degree=2, C=best_params['C'], class_weight='balanced')\n",
        "    clf.fit(X_train, y_train[:, i])\n",
        "    poly_classifiers.append(clf)\n",
        "\n",
        "# Predict on the test set\n",
        "poly_predictions = np.zeros_like(y_test)\n",
        "for i, clf in enumerate(poly_classifiers):\n",
        "    poly_predictions[:, i] = clf.predict(X_test)\n",
        "\n",
        "# Compute accuracy for multi-label classification\n",
        "accuracies = []\n",
        "for i in range(len(y_test)):\n",
        "    T = y_test[i]\n",
        "    P = poly_predictions[i]\n",
        "    numerator = np.sum(np.logical_and(T, P))\n",
        "    denominator = np.sum(np.logical_or(T, P))\n",
        "    if denominator > 0:\n",
        "        accuracies.append(numerator / denominator)\n",
        "\n",
        "poly_accuracy = np.mean(accuracies) * 100\n",
        "print(f\"Accuracy with Polynomial kernel: {poly_accuracy:.2f}%\")\n"
      ],
      "metadata": {
        "colab": {
          "base_uri": "https://localhost:8080/"
        },
        "id": "dqdzQt52havs",
        "outputId": "f3896400-aac5-4f4f-83b0-294d35b3bcc9"
      },
      "execution_count": 4,
      "outputs": [
        {
          "output_type": "stream",
          "name": "stdout",
          "text": [
            "Class 0: Best parameters: {'C': 1}\n",
            "Class 1: Best parameters: {'C': 1}\n",
            "Class 2: Best parameters: {'C': 1}\n",
            "Class 3: Best parameters: {'C': 1}\n",
            "Class 4: Best parameters: {'C': 10}\n",
            "Class 5: Best parameters: {'C': 10}\n",
            "Accuracy with Polynomial kernel: 61.26%\n"
          ]
        }
      ]
    },
    {
      "cell_type": "markdown",
      "source": [
        "** **Problem**2**"
      ],
      "metadata": {
        "id": "tXqqgDEah3do"
      }
    },
    {
      "cell_type": "code",
      "source": [
        "import numpy as np\n",
        "\n",
        "# Load the dataset\n",
        "data = np.loadtxt('seeds.txt')\n",
        "\n",
        "# Function to calculate Euclidean distance\n",
        "def euclidean_distance(a, b):\n",
        "    return np.sqrt(np.sum((a - b)**2))\n",
        "\n",
        "# K-means clustering function\n",
        "def k_means(data, k, max_iter=100, tol=0.001, num_initializations=10):\n",
        "    best_sse_avg = 0\n",
        "    for _ in range(num_initializations):\n",
        "        # Randomly initialize centroids\n",
        "        centroids = data[np.random.choice(data.shape[0], k, replace=False)]\n",
        "        prev_sse = float('inf')\n",
        "\n",
        "        for iteration in range(max_iter):\n",
        "            # Assign each data point to the nearest centroid\n",
        "            clusters = [[] for _ in range(k)]\n",
        "            for point in data:\n",
        "                distances = [euclidean_distance(point, centroid) for centroid in centroids]\n",
        "                cluster_idx = np.argmin(distances)\n",
        "                clusters[cluster_idx].append(point)\n",
        "\n",
        "            # Update centroids\n",
        "            new_centroids = np.array([np.mean(cluster, axis=0) if cluster else centroids[i] for i, cluster in enumerate(clusters)])\n",
        "\n",
        "            # Calculate SSE (Sum of Squared Errors)\n",
        "            sse = sum([sum(euclidean_distance(point, new_centroids[i])**2 for point in cluster) for i, cluster in enumerate(clusters)])\n",
        "\n",
        "            # Check convergence\n",
        "            if abs(prev_sse - sse) < tol:\n",
        "                break\n",
        "            prev_sse = sse\n",
        "            centroids = new_centroids\n",
        "\n",
        "        # Store the SSE\n",
        "        best_sse_avg += sse\n",
        "\n",
        "    # Average SSE over the initializations\n",
        "    return best_sse_avg / num_initializations\n",
        "\n",
        "# Run K-means for k = 3, 5, 7\n",
        "ks = [3, 5, 7]\n",
        "sse_results = {}\n",
        "for k in ks:\n",
        "    avg_sse = k_means(data, k)\n",
        "    sse_results[k] = avg_sse\n",
        "    print(f\"Average SSE for k = {k}: {avg_sse:.4f}\")\n"
      ],
      "metadata": {
        "colab": {
          "base_uri": "https://localhost:8080/"
        },
        "id": "EaLPIz_IiBwL",
        "outputId": "7edddf28-a5b0-4d72-f3bd-e58ac084d304"
      },
      "execution_count": 6,
      "outputs": [
        {
          "output_type": "stream",
          "name": "stdout",
          "text": [
            "Average SSE for k = 3: 587.9040\n",
            "Average SSE for k = 5: 397.1302\n",
            "Average SSE for k = 7: 297.4990\n"
          ]
        }
      ]
    },
    {
      "cell_type": "code",
      "source": [
        "import matplotlib.pyplot as plt\n",
        "\n",
        "ks = [3, 5, 7]\n",
        "sse_values = [587.9040, 397.1302, 297.4990]\n",
        "\n",
        "plt.plot(ks, sse_values, marker='o')\n",
        "plt.title('Elbow Method for Optimal k')\n",
        "plt.xlabel('Number of Clusters (k)')\n",
        "plt.ylabel('Average SSE')\n",
        "plt.show()\n"
      ],
      "metadata": {
        "colab": {
          "base_uri": "https://localhost:8080/",
          "height": 472
        },
        "id": "fvia6rSqjRJP",
        "outputId": "bba31d79-9ad1-4560-c97c-123792d96cad"
      },
      "execution_count": 7,
      "outputs": [
        {
          "output_type": "display_data",
          "data": {
            "text/plain": [
              "<Figure size 640x480 with 1 Axes>"
            ],
            "image/png": "[encoded data removed]"
          },
          "metadata": {}
        }
      ]
    },
    {
      "cell_type": "code",
      "source": [
        "from sklearn.decomposition import PCA\n",
        "import matplotlib.pyplot as plt\n",
        "\n",
        "pca = PCA(n_components=2)\n",
        "data_2d = pca.fit_transform(data)\n",
        "\n",
        "# Assuming k=3 for simplicity\n",
        "centroids = data[np.random.choice(data.shape[0], 3, replace=False)]\n",
        "clusters = [[] for _ in range(3)]\n",
        "for point in data:\n",
        "    distances = [np.linalg.norm(point - centroid) for centroid in centroids]\n",
        "    cluster_idx = np.argmin(distances)\n",
        "    clusters[cluster_idx].append(point)\n",
        "\n",
        "for i, cluster in enumerate(clusters):\n",
        "    cluster = np.array(cluster)\n",
        "    plt.scatter(cluster[:, 0], cluster[:, 1], label=f'Cluster {i+1}')\n",
        "plt.scatter(centroids[:, 0], centroids[:, 1], color='red', marker='x', label='Centroids')\n",
        "plt.legend()\n",
        "plt.title('Cluster Visualization (k=3)')\n",
        "plt.show()\n"
      ],
      "metadata": {
        "colab": {
          "base_uri": "https://localhost:8080/",
          "height": 452
        },
        "id": "vivN--hjjROz",
        "outputId": "9599a7b7-d847-4af5-fc14-c59ea563190d"
      },
      "execution_count": 8,
      "outputs": [
        {
          "output_type": "display_data",
          "data": {
            "text/plain": [
              "<Figure size 640x480 with 1 Axes>"
            ],
            "image/png": "[encoded data removed]"
          },
          "metadata": {}
        }
      ]
    },
    {
      "cell_type": "markdown",
      "source": [
        "**Problem 3**"
      ],
      "metadata": {
        "id": "indtVjIzlO0W"
      }
    },
    {
      "cell_type": "code",
      "source": [
        "import pandas as pd\n",
        "import numpy as np\n",
        "from sklearn.model_selection import train_test_split\n",
        "import pandas as pd\n",
        "from sklearn.model_selection import train_test_split\n",
        "from sklearn.ensemble import RandomForestClassifier\n",
        "from sklearn.metrics import f1_score, classification_report\n",
        "from sklearn.utils import resample\n",
        "from imblearn.over_sampling import SMOTE\n",
        "\n",
        "\n",
        "# Load the dataset\n",
        "data = pd.read_csv('/content/German Credit Data.txt', header=None)  # Update filename as needed\n",
        "\n",
        "# Check the shape of the dataset\n",
        "print(f\"Dataset shape: {data.shape}\")\n",
        "\n",
        "# Separate features (X) and labels (y)\n",
        "X = data.iloc[:, :-1]\n",
        "y = data.iloc[:, -1]  # Class labels are in the last column\n"
      ],
      "metadata": {
        "colab": {
          "base_uri": "https://localhost:8080/"
        },
        "id": "7lZrMfc4jRS8",
        "outputId": "06acf11e-0bbc-4125-ba1c-5c16f6ffc04e"
      },
      "execution_count": 22,
      "outputs": [
        {
          "output_type": "stream",
          "name": "stdout",
          "text": [
            "Dataset shape: (1000, 21)\n"
          ]
        }
      ]
    },
    {
      "cell_type": "code",
      "source": [
        "# Load the file\n",
        "input_file = '/content/German Credit Data.txt'  # Replace with your file path\n",
        "output_file = '/content/German Credit Data1.txt'  # Specify the output file name\n",
        "\n",
        "# Drop the 20th column (index 19 since Python uses 0-based indexing)\n",
        "data = data.drop(data.columns[19], axis=1)\n",
        "\n",
        "# Save the modified file\n",
        "data.to_csv(output_file, index=False)"
      ],
      "metadata": {
        "id": "MliaZT6HPOtq"
      },
      "execution_count": 20,
      "outputs": []
    },
    {
      "cell_type": "code",
      "source": [
        "# Define the column names as a list\n",
        "column_names = [\n",
        "    'Status', 'Duration', 'Credit_history', 'Purpose',\n",
        "    'Credit_amount', 'Savings_account', 'Present_employment', 'Installment_rate',\n",
        "    'sex', 'guarantors', 'residence', 'Property', 'Age', 'installment', 'Housing', 'existing_credits',\n",
        "    'job', 'num_dependents', 'telephone', 'foreign_worker'\n",
        "]\n",
        "\n",
        "# Assign column names to the dataset\n",
        "data.columns = column_names\n",
        "\n",
        "# Verify the column names\n",
        "print(data.head())\n"
      ],
      "metadata": {
        "colab": {
          "base_uri": "https://localhost:8080/"
        },
        "id": "iE4tHKOvt3fP",
        "outputId": "75fc595e-ff73-4eb3-e183-7d653985757c"
      },
      "execution_count": 21,
      "outputs": [
        {
          "output_type": "stream",
          "name": "stdout",
          "text": [
            "  Status  Duration Credit_history Purpose  Credit_amount Savings_account  \\\n",
            "0    A11         6            A34     A43           1169             A65   \n",
            "1    A12        48            A32     A43           5951             A61   \n",
            "2    A14        12            A34     A46           2096             A61   \n",
            "3    A11        42            A32     A42           7882             A61   \n",
            "4    A11        24            A33     A40           4870             A61   \n",
            "\n",
            "  Present_employment  Installment_rate  sex guarantors  residence Property  \\\n",
            "0                A75                 4  A93       A101          4     A121   \n",
            "1                A73                 2  A92       A101          2     A121   \n",
            "2                A74                 2  A93       A101          3     A121   \n",
            "3                A74                 2  A93       A103          4     A122   \n",
            "4                A73                 3  A93       A101          4     A124   \n",
            "\n",
            "   Age installment Housing  existing_credits   job  num_dependents telephone  \\\n",
            "0   67        A143    A152                 2  A173               1      A192   \n",
            "1   22        A143    A152                 1  A173               1      A191   \n",
            "2   49        A143    A152                 1  A172               2      A191   \n",
            "3   45        A143    A153                 1  A173               2      A191   \n",
            "4   53        A143    A153                 2  A173               2      A191   \n",
            "\n",
            "   foreign_worker  \n",
            "0               1  \n",
            "1               2  \n",
            "2               1  \n",
            "3               1  \n",
            "4               2  \n"
          ]
        }
      ]
    },
    {
      "cell_type": "code",
      "source": [
        "print(data.columns)"
      ],
      "metadata": {
        "colab": {
          "base_uri": "https://localhost:8080/"
        },
        "id": "FTTj0u-kT_BT",
        "outputId": "564c77ff-59a4-4fce-e63a-50b2aba14aab"
      },
      "execution_count": 24,
      "outputs": [
        {
          "output_type": "stream",
          "name": "stdout",
          "text": [
            "Index([0, 1, 2, 3, 4, 5, 6, 7, 8, 9, 10, 11, 12, 13, 14, 15, 16, 17, 18, 19,\n",
            "       'label'],\n",
            "      dtype='object')\n"
          ]
        }
      ]
    },
    {
      "cell_type": "code",
      "source": [
        "# Rename the last column to 'label' if not already\n",
        "data.rename(columns={data.columns[-1]: 'label'}, inplace=True)\n",
        "\n",
        "# Split into features and labels\n",
        "X = data.drop(columns=['label'])\n",
        "y = data['label']\n"
      ],
      "metadata": {
        "id": "FqIDo_QeTpQ-"
      },
      "execution_count": 25,
      "outputs": []
    },
    {
      "cell_type": "code",
      "source": [
        "from sklearn.preprocessing import LabelEncoder\n",
        "from sklearn.model_selection import train_test_split\n",
        "from sklearn.ensemble import RandomForestClassifier\n",
        "from sklearn.metrics import f1_score\n",
        "\n",
        "# Encode categorical features\n",
        "categorical_columns = X.select_dtypes(include=['object']).columns  # Identify categorical columns\n",
        "\n",
        "# Apply LabelEncoder to each categorical column\n",
        "label_encoders = {}\n",
        "for col in categorical_columns:\n",
        "    le = LabelEncoder()\n",
        "    X[col] = le.fit_transform(X[col])\n",
        "    label_encoders[col] = le  # Store encoders for inverse_transform if needed"
      ],
      "metadata": {
        "id": "IFOllYXRUSwn"
      },
      "execution_count": 29,
      "outputs": []
    },
    {
      "cell_type": "markdown",
      "source": [
        "**Handle Class Imbalance**\n",
        "You can try different techniques and compare their performance:\n",
        "\n",
        "Undersampling: Reducing the majority class.\n",
        "Oversampling: Increasing the minority class using SMOTE.\n",
        "Algorithmic Weight Adjustment: Using class weights in the model."
      ],
      "metadata": {
        "id": "A904whPfUae6"
      }
    },
    {
      "cell_type": "code",
      "source": [
        "# Apply SMOTE to oversample the minority class\n",
        "smote = SMOTE(random_state=42)\n",
        "X_smote, y_smote = smote.fit_resample(X, y)\n"
      ],
      "metadata": {
        "id": "0rwsksHgUTZG"
      },
      "execution_count": 30,
      "outputs": []
    },
    {
      "cell_type": "markdown",
      "source": [
        "Split Data into Train and Test Sets"
      ],
      "metadata": {
        "id": "zHaXQu63Wqu7"
      }
    },
    {
      "cell_type": "code",
      "source": [
        "from sklearn.model_selection import train_test_split\n",
        "\n",
        "#X_train, X_test, y_train, y_test = train_test_split(X, y, test_size=0.3, random_state=42, stratify=y)\n",
        "# For the original data\n",
        "X_train, X_test, y_train, y_test = train_test_split(X, y, test_size=0.3, random_state=42)\n",
        "\n",
        "# For the balanced data\n",
        "X_train_balanced, X_test_balanced, y_train_balanced, y_test_balanced = train_test_split(\n",
        "    X_smote, y_smote, test_size=0.3, random_state=42)\n",
        "\n"
      ],
      "metadata": {
        "id": "BuGTn3_ZjRXt"
      },
      "execution_count": 32,
      "outputs": []
    },
    {
      "cell_type": "markdown",
      "source": [
        "Train a Machine Learning Model"
      ],
      "metadata": {
        "id": "mrvufT32W8ce"
      }
    },
    {
      "cell_type": "code",
      "source": [
        "# Initialize Random Forest Classifier\n",
        "model = RandomForestClassifier(random_state=42, class_weight='balanced')\n",
        "\n",
        "# Train on imbalanced dataset\n",
        "model.fit(X_train, y_train)\n",
        "\n",
        "# Train on balanced dataset (e.g., SMOTE)\n",
        "model_smote = RandomForestClassifier(random_state=42)\n",
        "model_smote.fit(X_train_balanced, y_train_balanced)\n"
      ],
      "metadata": {
        "colab": {
          "base_uri": "https://localhost:8080/",
          "height": 80
        },
        "id": "d94ACMBsW9z_",
        "outputId": "81820b3e-b3a5-4e98-dd97-80d81fa16e81"
      },
      "execution_count": 33,
      "outputs": [
        {
          "output_type": "execute_result",
          "data": {
            "text/plain": [
              "RandomForestClassifier(random_state=42)"
            ],
            "text/html": [
              "<style>#sk-container-id-1 {\n",
              "  /* Definition of color scheme common for light and dark mode */\n",
              "  --sklearn-color-text: black;\n",
              "  --sklearn-color-line: gray;\n",
              "  /* Definition of color scheme for unfitted estimators */\n",
              "  --sklearn-color-unfitted-level-0: #fff5e6;\n",
              "  --sklearn-color-unfitted-level-1: #f6e4d2;\n",
              "  --sklearn-color-unfitted-level-2: #ffe0b3;\n",
              "  --sklearn-color-unfitted-level-3: chocolate;\n",
              "  /* Definition of color scheme for fitted estimators */\n",
              "  --sklearn-color-fitted-level-0: #f0f8ff;\n",
              "  --sklearn-color-fitted-level-1: #d4ebff;\n",
              "  --sklearn-color-fitted-level-2: #b3dbfd;\n",
              "  --sklearn-color-fitted-level-3: cornflowerblue;\n",
              "\n",
              "  /* Specific color for light theme */\n",
              "  --sklearn-color-text-on-default-background: var(--sg-text-color, var(--theme-code-foreground, var(--jp-content-font-color1, black)));\n",
              "  --sklearn-color-background: var(--sg-background-color, var(--theme-background, var(--jp-layout-color0, white)));\n",
              "  --sklearn-color-border-box: var(--sg-text-color, var(--theme-code-foreground, var(--jp-content-font-color1, black)));\n",
              "  --sklearn-color-icon: #696969;\n",
              "\n",
              "  @media (prefers-color-scheme: dark) {\n",
              "    /* Redefinition of color scheme for dark theme */\n",
              "    --sklearn-color-text-on-default-background: var(--sg-text-color, var(--theme-code-foreground, var(--jp-content-font-color1, white)));\n",
              "    --sklearn-color-background: var(--sg-background-color, var(--theme-background, var(--jp-layout-color0, #111)));\n",
              "    --sklearn-color-border-box: var(--sg-text-color, var(--theme-code-foreground, var(--jp-content-font-color1, white)));\n",
              "    --sklearn-color-icon: #878787;\n",
              "  }\n",
              "}\n",
              "\n",
              "#sk-container-id-1 {\n",
              "  color: var(--sklearn-color-text);\n",
              "}\n",
              "\n",
              "#sk-container-id-1 pre {\n",
              "  padding: 0;\n",
              "}\n",
              "\n",
              "#sk-container-id-1 input.sk-hidden--visually {\n",
              "  border: 0;\n",
              "  clip: rect(1px 1px 1px 1px);\n",
              "  clip: rect(1px, 1px, 1px, 1px);\n",
              "  height: 1px;\n",
              "  margin: -1px;\n",
              "  overflow: hidden;\n",
              "  padding: 0;\n",
              "  position: absolute;\n",
              "  width: 1px;\n",
              "}\n",
              "\n",
              "#sk-container-id-1 div.sk-dashed-wrapped {\n",
              "  border: 1px dashed var(--sklearn-color-line);\n",
              "  margin: 0 0.4em 0.5em 0.4em;\n",
              "  box-sizing: border-box;\n",
              "  padding-bottom: 0.4em;\n",
              "  background-color: var(--sklearn-color-background);\n",
              "}\n",
              "\n",
              "#sk-container-id-1 div.sk-container {\n",
              "  /* jupyter's `normalize.less` sets `[hidden] { display: none; }`\n",
              "     but bootstrap.min.css set `[hidden] { display: none !important; }`\n",
              "     so we also need the `!important` here to be able to override the\n",
              "     default hidden behavior on the sphinx rendered scikit-learn.org.\n",
              "     See: https://github.com/scikit-learn/scikit-learn/issues/21755 */\n",
              "  display: inline-block !important;\n",
              "  position: relative;\n",
              "}\n",
              "\n",
              "#sk-container-id-1 div.sk-text-repr-fallback {\n",
              "  display: none;\n",
              "}\n",
              "\n",
              "div.sk-parallel-item,\n",
              "div.sk-serial,\n",
              "div.sk-item {\n",
              "  /* draw centered vertical line to link estimators */\n",
              "  background-image: linear-gradient(var(--sklearn-color-text-on-default-background), var(--sklearn-color-text-on-default-background));\n",
              "  background-size: 2px 100%;\n",
              "  background-repeat: no-repeat;\n",
              "  background-position: center center;\n",
              "}\n",
              "\n",
              "/* Parallel-specific style estimator block */\n",
              "\n",
              "#sk-container-id-1 div.sk-parallel-item::after {\n",
              "  content: \"\";\n",
              "  width: 100%;\n",
              "  border-bottom: 2px solid var(--sklearn-color-text-on-default-background);\n",
              "  flex-grow: 1;\n",
              "}\n",
              "\n",
              "#sk-container-id-1 div.sk-parallel {\n",
              "  display: flex;\n",
              "  align-items: stretch;\n",
              "  justify-content: center;\n",
              "  background-color: var(--sklearn-color-background);\n",
              "  position: relative;\n",
              "}\n",
              "\n",
              "#sk-container-id-1 div.sk-parallel-item {\n",
              "  display: flex;\n",
              "  flex-direction: column;\n",
              "}\n",
              "\n",
              "#sk-container-id-1 div.sk-parallel-item:first-child::after {\n",
              "  align-self: flex-end;\n",
              "  width: 50%;\n",
              "}\n",
              "\n",
              "#sk-container-id-1 div.sk-parallel-item:last-child::after {\n",
              "  align-self: flex-start;\n",
              "  width: 50%;\n",
              "}\n",
              "\n",
              "#sk-container-id-1 div.sk-parallel-item:only-child::after {\n",
              "  width: 0;\n",
              "}\n",
              "\n",
              "/* Serial-specific style estimator block */\n",
              "\n",
              "#sk-container-id-1 div.sk-serial {\n",
              "  display: flex;\n",
              "  flex-direction: column;\n",
              "  align-items: center;\n",
              "  background-color: var(--sklearn-color-background);\n",
              "  padding-right: 1em;\n",
              "  padding-left: 1em;\n",
              "}\n",
              "\n",
              "\n",
              "/* Toggleable style: style used for estimator/Pipeline/ColumnTransformer box that is\n",
              "clickable and can be expanded/collapsed.\n",
              "- Pipeline and ColumnTransformer use this feature and define the default style\n",
              "- Estimators will overwrite some part of the style using the `sk-estimator` class\n",
              "*/\n",
              "\n",
              "/* Pipeline and ColumnTransformer style (default) */\n",
              "\n",
              "#sk-container-id-1 div.sk-toggleable {\n",
              "  /* Default theme specific background. It is overwritten whether we have a\n",
              "  specific estimator or a Pipeline/ColumnTransformer */\n",
              "  background-color: var(--sklearn-color-background);\n",
              "}\n",
              "\n",
              "/* Toggleable label */\n",
              "#sk-container-id-1 label.sk-toggleable__label {\n",
              "  cursor: pointer;\n",
              "  display: block;\n",
              "  width: 100%;\n",
              "  margin-bottom: 0;\n",
              "  padding: 0.5em;\n",
              "  box-sizing: border-box;\n",
              "  text-align: center;\n",
              "}\n",
              "\n",
              "#sk-container-id-1 label.sk-toggleable__label-arrow:before {\n",
              "  /* Arrow on the left of the label */\n",
              "  content: \"▸\";\n",
              "  float: left;\n",
              "  margin-right: 0.25em;\n",
              "  color: var(--sklearn-color-icon);\n",
              "}\n",
              "\n",
              "#sk-container-id-1 label.sk-toggleable__label-arrow:hover:before {\n",
              "  color: var(--sklearn-color-text);\n",
              "}\n",
              "\n",
              "/* Toggleable content - dropdown */\n",
              "\n",
              "#sk-container-id-1 div.sk-toggleable__content {\n",
              "  max-height: 0;\n",
              "  max-width: 0;\n",
              "  overflow: hidden;\n",
              "  text-align: left;\n",
              "  /* unfitted */\n",
              "  background-color: var(--sklearn-color-unfitted-level-0);\n",
              "}\n",
              "\n",
              "#sk-container-id-1 div.sk-toggleable__content.fitted {\n",
              "  /* fitted */\n",
              "  background-color: var(--sklearn-color-fitted-level-0);\n",
              "}\n",
              "\n",
              "#sk-container-id-1 div.sk-toggleable__content pre {\n",
              "  margin: 0.2em;\n",
              "  border-radius: 0.25em;\n",
              "  color: var(--sklearn-color-text);\n",
              "  /* unfitted */\n",
              "  background-color: var(--sklearn-color-unfitted-level-0);\n",
              "}\n",
              "\n",
              "#sk-container-id-1 div.sk-toggleable__content.fitted pre {\n",
              "  /* unfitted */\n",
              "  background-color: var(--sklearn-color-fitted-level-0);\n",
              "}\n",
              "\n",
              "#sk-container-id-1 input.sk-toggleable__control:checked~div.sk-toggleable__content {\n",
              "  /* Expand drop-down */\n",
              "  max-height: 200px;\n",
              "  max-width: 100%;\n",
              "  overflow: auto;\n",
              "}\n",
              "\n",
              "#sk-container-id-1 input.sk-toggleable__control:checked~label.sk-toggleable__label-arrow:before {\n",
              "  content: \"▾\";\n",
              "}\n",
              "\n",
              "/* Pipeline/ColumnTransformer-specific style */\n",
              "\n",
              "#sk-container-id-1 div.sk-label input.sk-toggleable__control:checked~label.sk-toggleable__label {\n",
              "  color: var(--sklearn-color-text);\n",
              "  background-color: var(--sklearn-color-unfitted-level-2);\n",
              "}\n",
              "\n",
              "#sk-container-id-1 div.sk-label.fitted input.sk-toggleable__control:checked~label.sk-toggleable__label {\n",
              "  background-color: var(--sklearn-color-fitted-level-2);\n",
              "}\n",
              "\n",
              "/* Estimator-specific style */\n",
              "\n",
              "/* Colorize estimator box */\n",
              "#sk-container-id-1 div.sk-estimator input.sk-toggleable__control:checked~label.sk-toggleable__label {\n",
              "  /* unfitted */\n",
              "  background-color: var(--sklearn-color-unfitted-level-2);\n",
              "}\n",
              "\n",
              "#sk-container-id-1 div.sk-estimator.fitted input.sk-toggleable__control:checked~label.sk-toggleable__label {\n",
              "  /* fitted */\n",
              "  background-color: var(--sklearn-color-fitted-level-2);\n",
              "}\n",
              "\n",
              "#sk-container-id-1 div.sk-label label.sk-toggleable__label,\n",
              "#sk-container-id-1 div.sk-label label {\n",
              "  /* The background is the default theme color */\n",
              "  color: var(--sklearn-color-text-on-default-background);\n",
              "}\n",
              "\n",
              "/* On hover, darken the color of the background */\n",
              "#sk-container-id-1 div.sk-label:hover label.sk-toggleable__label {\n",
              "  color: var(--sklearn-color-text);\n",
              "  background-color: var(--sklearn-color-unfitted-level-2);\n",
              "}\n",
              "\n",
              "/* Label box, darken color on hover, fitted */\n",
              "#sk-container-id-1 div.sk-label.fitted:hover label.sk-toggleable__label.fitted {\n",
              "  color: var(--sklearn-color-text);\n",
              "  background-color: var(--sklearn-color-fitted-level-2);\n",
              "}\n",
              "\n",
              "/* Estimator label */\n",
              "\n",
              "#sk-container-id-1 div.sk-label label {\n",
              "  font-family: monospace;\n",
              "  font-weight: bold;\n",
              "  display: inline-block;\n",
              "  line-height: 1.2em;\n",
              "}\n",
              "\n",
              "#sk-container-id-1 div.sk-label-container {\n",
              "  text-align: center;\n",
              "}\n",
              "\n",
              "/* Estimator-specific */\n",
              "#sk-container-id-1 div.sk-estimator {\n",
              "  font-family: monospace;\n",
              "  border: 1px dotted var(--sklearn-color-border-box);\n",
              "  border-radius: 0.25em;\n",
              "  box-sizing: border-box;\n",
              "  margin-bottom: 0.5em;\n",
              "  /* unfitted */\n",
              "  background-color: var(--sklearn-color-unfitted-level-0);\n",
              "}\n",
              "\n",
              "#sk-container-id-1 div.sk-estimator.fitted {\n",
              "  /* fitted */\n",
              "  background-color: var(--sklearn-color-fitted-level-0);\n",
              "}\n",
              "\n",
              "/* on hover */\n",
              "#sk-container-id-1 div.sk-estimator:hover {\n",
              "  /* unfitted */\n",
              "  background-color: var(--sklearn-color-unfitted-level-2);\n",
              "}\n",
              "\n",
              "#sk-container-id-1 div.sk-estimator.fitted:hover {\n",
              "  /* fitted */\n",
              "  background-color: var(--sklearn-color-fitted-level-2);\n",
              "}\n",
              "\n",
              "/* Specification for estimator info (e.g. \"i\" and \"?\") */\n",
              "\n",
              "/* Common style for \"i\" and \"?\" */\n",
              "\n",
              ".sk-estimator-doc-link,\n",
              "a:link.sk-estimator-doc-link,\n",
              "a:visited.sk-estimator-doc-link {\n",
              "  float: right;\n",
              "  font-size: smaller;\n",
              "  line-height: 1em;\n",
              "  font-family: monospace;\n",
              "  background-color: var(--sklearn-color-background);\n",
              "  border-radius: 1em;\n",
              "  height: 1em;\n",
              "  width: 1em;\n",
              "  text-decoration: none !important;\n",
              "  margin-left: 1ex;\n",
              "  /* unfitted */\n",
              "  border: var(--sklearn-color-unfitted-level-1) 1pt solid;\n",
              "  color: var(--sklearn-color-unfitted-level-1);\n",
              "}\n",
              "\n",
              ".sk-estimator-doc-link.fitted,\n",
              "a:link.sk-estimator-doc-link.fitted,\n",
              "a:visited.sk-estimator-doc-link.fitted {\n",
              "  /* fitted */\n",
              "  border: var(--sklearn-color-fitted-level-1) 1pt solid;\n",
              "  color: var(--sklearn-color-fitted-level-1);\n",
              "}\n",
              "\n",
              "/* On hover */\n",
              "div.sk-estimator:hover .sk-estimator-doc-link:hover,\n",
              ".sk-estimator-doc-link:hover,\n",
              "div.sk-label-container:hover .sk-estimator-doc-link:hover,\n",
              ".sk-estimator-doc-link:hover {\n",
              "  /* unfitted */\n",
              "  background-color: var(--sklearn-color-unfitted-level-3);\n",
              "  color: var(--sklearn-color-background);\n",
              "  text-decoration: none;\n",
              "}\n",
              "\n",
              "div.sk-estimator.fitted:hover .sk-estimator-doc-link.fitted:hover,\n",
              ".sk-estimator-doc-link.fitted:hover,\n",
              "div.sk-label-container:hover .sk-estimator-doc-link.fitted:hover,\n",
              ".sk-estimator-doc-link.fitted:hover {\n",
              "  /* fitted */\n",
              "  background-color: var(--sklearn-color-fitted-level-3);\n",
              "  color: var(--sklearn-color-background);\n",
              "  text-decoration: none;\n",
              "}\n",
              "\n",
              "/* Span, style for the box shown on hovering the info icon */\n",
              ".sk-estimator-doc-link span {\n",
              "  display: none;\n",
              "  z-index: 9999;\n",
              "  position: relative;\n",
              "  font-weight: normal;\n",
              "  right: .2ex;\n",
              "  padding: .5ex;\n",
              "  margin: .5ex;\n",
              "  width: min-content;\n",
              "  min-width: 20ex;\n",
              "  max-width: 50ex;\n",
              "  color: var(--sklearn-color-text);\n",
              "  box-shadow: 2pt 2pt 4pt #999;\n",
              "  /* unfitted */\n",
              "  background: var(--sklearn-color-unfitted-level-0);\n",
              "  border: .5pt solid var(--sklearn-color-unfitted-level-3);\n",
              "}\n",
              "\n",
              ".sk-estimator-doc-link.fitted span {\n",
              "  /* fitted */\n",
              "  background: var(--sklearn-color-fitted-level-0);\n",
              "  border: var(--sklearn-color-fitted-level-3);\n",
              "}\n",
              "\n",
              ".sk-estimator-doc-link:hover span {\n",
              "  display: block;\n",
              "}\n",
              "\n",
              "/* \"?\"-specific style due to the `<a>` HTML tag */\n",
              "\n",
              "#sk-container-id-1 a.estimator_doc_link {\n",
              "  float: right;\n",
              "  font-size: 1rem;\n",
              "  line-height: 1em;\n",
              "  font-family: monospace;\n",
              "  background-color: var(--sklearn-color-background);\n",
              "  border-radius: 1rem;\n",
              "  height: 1rem;\n",
              "  width: 1rem;\n",
              "  text-decoration: none;\n",
              "  /* unfitted */\n",
              "  color: var(--sklearn-color-unfitted-level-1);\n",
              "  border: var(--sklearn-color-unfitted-level-1) 1pt solid;\n",
              "}\n",
              "\n",
              "#sk-container-id-1 a.estimator_doc_link.fitted {\n",
              "  /* fitted */\n",
              "  border: var(--sklearn-color-fitted-level-1) 1pt solid;\n",
              "  color: var(--sklearn-color-fitted-level-1);\n",
              "}\n",
              "\n",
              "/* On hover */\n",
              "#sk-container-id-1 a.estimator_doc_link:hover {\n",
              "  /* unfitted */\n",
              "  background-color: var(--sklearn-color-unfitted-level-3);\n",
              "  color: var(--sklearn-color-background);\n",
              "  text-decoration: none;\n",
              "}\n",
              "\n",
              "#sk-container-id-1 a.estimator_doc_link.fitted:hover {\n",
              "  /* fitted */\n",
              "  background-color: var(--sklearn-color-fitted-level-3);\n",
              "}\n",
              "</style><div id=\"sk-container-id-1\" class=\"sk-top-container\"><div class=\"sk-text-repr-fallback\"><pre>RandomForestClassifier(random_state=42)</pre><b>In a Jupyter environment, please rerun this cell to show the HTML representation or trust the notebook. <br />On GitHub, the HTML representation is unable to render, please try loading this page with nbviewer.org.</b></div><div class=\"sk-container\" hidden><div class=\"sk-item\"><div class=\"sk-estimator fitted sk-toggleable\"><input class=\"sk-toggleable__control sk-hidden--visually\" id=\"sk-estimator-id-1\" type=\"checkbox\" checked><label for=\"sk-estimator-id-1\" class=\"sk-toggleable__label fitted sk-toggleable__label-arrow fitted\">&nbsp;&nbsp;RandomForestClassifier<a class=\"sk-estimator-doc-link fitted\" rel=\"noreferrer\" target=\"_blank\" href=\"https://scikit-learn.org/1.5/modules/generated/sklearn.ensemble.RandomForestClassifier.html\">?<span>Documentation for RandomForestClassifier</span></a><span class=\"sk-estimator-doc-link fitted\">i<span>Fitted</span></span></label><div class=\"sk-toggleable__content fitted\"><pre>RandomForestClassifier(random_state=42)</pre></div> </div></div></div></div>"
            ]
          },
          "metadata": {},
          "execution_count": 33
        }
      ]
    },
    {
      "cell_type": "code",
      "source": [
        "# Predict on test data\n",
        "y_pred = model.predict(X_test)\n",
        "y_pred_smote = model_smote.predict(X_test_balanced)\n",
        "\n",
        "# Calculate F-score\n",
        "f1_original = f1_score(y_test, y_pred, average='weighted')\n",
        "f1_smote = f1_score(y_test_balanced, y_pred_smote, average='weighted')\n",
        "\n",
        "# Print Classification Reports\n",
        "print(\"Classification Report for Imbalanced Data:\")\n",
        "print(classification_report(y_test, y_pred))\n",
        "\n",
        "print(\"Classification Report for Balanced Data (SMOTE):\")\n",
        "print(classification_report(y_test_balanced, y_pred_smote))\n",
        "\n",
        "# Output F-scores\n",
        "print(f\"F1-Score on Original Data: {f1_original}\")\n",
        "print(f\"F1-Score on SMOTE Data: {f1_smote}\")\n"
      ],
      "metadata": {
        "colab": {
          "base_uri": "https://localhost:8080/"
        },
        "id": "3NhFN8ylXDFD",
        "outputId": "dfee33ac-aa36-4957-b656-5374cb2b5eac"
      },
      "execution_count": 34,
      "outputs": [
        {
          "output_type": "stream",
          "name": "stdout",
          "text": [
            "Classification Report for Imbalanced Data:\n",
            "              precision    recall  f1-score   support\n",
            "\n",
            "           1       0.76      0.92      0.84       209\n",
            "           2       0.66      0.34      0.45        91\n",
            "\n",
            "    accuracy                           0.75       300\n",
            "   macro avg       0.71      0.63      0.64       300\n",
            "weighted avg       0.73      0.75      0.72       300\n",
            "\n",
            "Classification Report for Balanced Data (SMOTE):\n",
            "              precision    recall  f1-score   support\n",
            "\n",
            "           1       0.85      0.79      0.82       218\n",
            "           2       0.79      0.85      0.82       202\n",
            "\n",
            "    accuracy                           0.82       420\n",
            "   macro avg       0.82      0.82      0.82       420\n",
            "weighted avg       0.82      0.82      0.82       420\n",
            "\n",
            "F1-Score on Original Data: 0.7183436853002071\n",
            "F1-Score on SMOTE Data: 0.819047619047619\n"
          ]
        }
      ]
    },
    {
      "cell_type": "code",
      "source": [],
      "metadata": {
        "id": "HzjfYOVOmjbW"
      },
      "execution_count": null,
      "outputs": []
    },
    {
      "cell_type": "code",
      "source": [],
      "metadata": {
        "id": "cG1KGNM8mjem"
      },
      "execution_count": null,
      "outputs": []
    },
    {
      "cell_type": "code",
      "source": [],
      "metadata": {
        "id": "JhmbP7R1mjhw"
      },
      "execution_count": null,
      "outputs": []
    }
  ]
}